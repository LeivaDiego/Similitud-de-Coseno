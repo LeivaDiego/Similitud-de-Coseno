{
 "cells": [
  {
   "cell_type": "markdown",
   "metadata": {
    "id": "Zgc87rWWCg9e"
   },
   "source": [
    "# ================================================\n",
    "# Laboratorio 2 — Similitud de Coseno\n",
    "# ================================================\n",
    "Diego Leiva       -   21752   \n",
    "# Instrucciones\n",
    "1. **Carga de embeddings**  \n",
    "   - Utilizar las representaciones vectoriales preentrenadas (*GloVe 100d*).  \n",
    "   - Verificar que los términos requeridos estén contenidos en el vocabulario.  \n",
    "\n",
    "2. **Cálculo de vectores de expresión**  \n",
    "   - Construir expresiones vectoriales simples mediante operaciones aritméticas (suma, resta).  \n",
    "\n",
    "3. **Medición de similitud**  \n",
    "   - Calcular la similitud de coseno entre los vectores de la expresión y los vectores de referencia.  \n",
    "   - Reportar:  \n",
    "     - Valor de la similitud de coseno.  \n",
    "     - Normas de cada vector (\\(\\|\\mathbf{u}\\|\\)).  \n",
    "\n",
    "4. **Casos de estudio**  \n",
    "   Realizar caso por caso\n",
    "\n",
    "5. **Documentación de resultados**  \n",
    "   - Registrar en el notebook los valores obtenidos de similitud y normas vectoriales para cada caso.  \n",
    "   - Incluir comentarios breves interpretando los resultados.  \n",
    "\n",
    "6. **Conclusiones**  \n",
    "   - Redactar conclusiones **caso por caso** sobre la utilidad de la similitud de coseno."
   ]
  },
  {
   "cell_type": "code",
   "execution_count": 1,
   "metadata": {
    "id": "q8Wdrh6SDLE-"
   },
   "outputs": [],
   "source": [
    "import numpy as np\n",
    "from typing import List, Iterable, Tuple\n",
    "import gensim.downloader as api"
   ]
  },
  {
   "cell_type": "code",
   "execution_count": 2,
   "metadata": {
    "id": "NhOrYPOYDfm6"
   },
   "outputs": [],
   "source": [
    "# ========= 1) Cargar GloVe 100D =========\n",
    "model = api.load(\"glove-wiki-gigaword-100\")"
   ]
  },
  {
   "cell_type": "code",
   "execution_count": 3,
   "metadata": {
    "id": "MSLOx52ZDQfl"
   },
   "outputs": [],
   "source": [
    "# ========= 2) Funciones utilitarias =========\n",
    "def embedding(word: str) -> np.ndarray:\n",
    "    \"\"\"\n",
    "    Vector de la palabra (lanza KeyError si no está en vocab).\n",
    "    Args:\n",
    "        word (str): La palabra a vectorizar.\n",
    "    Returns:\n",
    "        np.ndarray: El vector de la palabra.\n",
    "    \"\"\"\n",
    "    return model[word]\n",
    "\n",
    "def build_vector(plus: List[str], minus: List[str]) -> np.ndarray:\n",
    "    \"\"\"\n",
    "    Suma y resta embeddings explícitamente.\n",
    "    Args:\n",
    "        plus (List[str]): Palabras a sumar.\n",
    "        minus (List[str]): Palabras a restar.\n",
    "    Returns:\n",
    "        np.ndarray: El vector resultante.\n",
    "    \"\"\"\n",
    "    dim = model[next(iter(model.key_to_index))].shape[0]\n",
    "    v = np.zeros(dim, dtype=np.float32)\n",
    "    for w in plus:\n",
    "        if w in model:\n",
    "            v += model[w]\n",
    "        else:\n",
    "            print(f\"[OOV] '{w}' no está en el vocabulario.\")\n",
    "    for w in minus:\n",
    "        if w in model:\n",
    "            v -= model[w]\n",
    "        else:\n",
    "            print(f\"[OOV] '{w}' no está en el vocabulario.\")\n",
    "    return v\n",
    "\n",
    "def cos(a: np.ndarray, b: np.ndarray) -> float:\n",
    "    \"\"\"\n",
    "    Calcula la similitud coseno entre dos vectores.\n",
    "    Args:\n",
    "        a (np.ndarray): Primer vector.\n",
    "        b (np.ndarray): Segundo vector.\n",
    "    Returns:\n",
    "        float: La similitud coseno entre los vectores.\n",
    "    \"\"\"\n",
    "    na, nb = np.linalg.norm(a), np.linalg.norm(b)\n",
    "    if na == 0 or nb == 0:\n",
    "        return float(\"nan\")\n",
    "    return float(np.dot(a, b) / (na * nb))\n",
    "\n",
    "def vec_norm(v: np.ndarray) -> float:\n",
    "    \"\"\"\n",
    "    Calcula la norma de un vector.\n",
    "    Args:\n",
    "        v (np.ndarray): El vector a evaluar.\n",
    "    Returns:\n",
    "        float: La norma del vector.\n",
    "    \"\"\"\n",
    "    return float(np.linalg.norm(v))\n",
    "\n",
    "def stringify_expr(plus: List[str], minus: List[str]) -> str:\n",
    "    \"\"\"\n",
    "    Convierte la expresión en un string legible.\n",
    "    Args:\n",
    "        plus (List[str]): Palabras a sumar.\n",
    "        minus (List[str]): Palabras a restar.\n",
    "    Returns:\n",
    "        str: La expresión en formato string.\n",
    "    \"\"\"\n",
    "    p = \" + \".join(plus) if plus else \"\"\n",
    "    m = \" - \" + \" - \".join(minus) if minus else \"\"\n",
    "    return (p + m).strip() if (p or m) else \"(vector nulo)\"\n",
    "\n",
    "def check_vocab(words: Iterable[str]) -> Tuple[set, set]:\n",
    "    \"\"\"\n",
    "    Regresa (presentes, ausentes) en el vocab.\n",
    "    Args:\n",
    "        words (Iterable[str]): Palabras a verificar.\n",
    "    Returns:\n",
    "        Tuple[set, set]: Conjuntos de palabras presentes y ausentes en el vocab.\n",
    "    \"\"\"\n",
    "    presentes, ausentes = set(), set()\n",
    "    for w in words:\n",
    "        (presentes if w in model else ausentes).add(w)\n",
    "    return presentes, ausentes\n",
    "\n",
    "def show_vocab_check(title: str, words: Iterable[str]) -> None:\n",
    "    \"\"\"\n",
    "    Muestra las palabras presentes y ausentes en el vocab.\n",
    "    Args:\n",
    "        title (str): Título de la verificación.\n",
    "        words (Iterable[str]): Palabras a verificar.\n",
    "    \"\"\"\n",
    "    presentes, ausentes = check_vocab(words)\n",
    "    print(f\"--- Chequeo Vocabulario {title} ---\")\n",
    "    print(\"En vocab:\", sorted(presentes))\n",
    "    if ausentes:\n",
    "        print(\"Fuera de vocab (OOV):\", sorted(ausentes))\n",
    "    else:\n",
    "        print(\"No hay OOV\")\n",
    "    print()\n",
    "\n",
    "\n",
    "def report_case(label, plus, minus, target_plus) -> None:\n",
    "    \"\"\"\n",
    "    Reporta un caso de prueba.\n",
    "    Args:\n",
    "        label (str): Etiqueta del caso.\n",
    "        plus (List[str]): Palabras a sumar.\n",
    "        minus (List[str]): Palabras a restar.\n",
    "        target_plus (List[str]): Palabras objetivo a sumar.\n",
    "    \"\"\"\n",
    "    expr_vec   = build_vector(plus, minus)\n",
    "    target_vec = build_vector(target_plus, [])\n",
    "    print(\"====\", label, \"====\")\n",
    "    print(\"Expresión =\", \" + \".join(plus) + \" - \" + \" - \".join(minus) if minus else \" + \".join(plus))\n",
    "    print(\"Target    =\", \" + \".join(target_plus))\n",
    "    print(\"cos(expr, target) =\", round(cos(expr_vec, target_vec), 6))\n",
    "    print(\"||expr||           =\", round(vec_norm(expr_vec), 6))\n",
    "    print(\"||target||         =\", round(vec_norm(target_vec), 6))\n",
    "    print()"
   ]
  },
  {
   "cell_type": "code",
   "execution_count": 4,
   "metadata": {},
   "outputs": [],
   "source": [
    "# ========= 3) Vecinos más cercanos de una expresión =========\n",
    "def nearest_neighbors(plus: List[str], minus: List[str], topn: int = 3) -> List[tuple]:\n",
    "    \"\"\"\n",
    "    Encuentra los vecinos más cercanos a una expresión usando similar_by_vector.\n",
    "    Args:\n",
    "        plus (List[str]): Palabras a sumar.\n",
    "        minus (List[str]): Palabras a restar.\n",
    "        topn (int): Número de vecinos a retornar.\n",
    "    Returns:\n",
    "        List[tuple]: Lista de (palabra, similitud, norma_vector).\n",
    "    \"\"\"\n",
    "    expr_vec = build_vector(plus, minus)\n",
    "    # similar_by_vector calcula coseno internamente contra todo el vocab\n",
    "    sims = model.similar_by_vector(expr_vec, topn=topn)\n",
    "    out = []\n",
    "    for word, sim in sims:\n",
    "        v = model[word]\n",
    "        out.append((word, float(sim), vec_norm(v)))\n",
    "    return out\n",
    "\n",
    "def report_neighbors(title: str, plus: List[str], minus: List[str], topn: int = 3) -> None:\n",
    "    \"\"\"\n",
    "    Reporta los vecinos más cercanos de una expresión.\n",
    "    Args:\n",
    "        title (str): Título de la sección.\n",
    "        plus (List[str]): Palabras a sumar.\n",
    "        minus (List[str]): Palabras a restar.\n",
    "        topn (int): Número de vecinos a mostrar.\n",
    "    \"\"\"\n",
    "    print(f\"==== {title} ====\")\n",
    "    print(\"Expresión =\", stringify_expr(plus, minus))\n",
    "    nn = nearest_neighbors(plus, minus, topn=topn)\n",
    "    for i, (w, s, n) in enumerate(nn, 1):\n",
    "        print(f\"{i}. {w:15s}  cos = {s:.6f}   ||w|| = {n:.6f}\")\n",
    "    print()"
   ]
  },
  {
   "cell_type": "markdown",
   "metadata": {
    "id": "jYmlGtmYDqd1"
   },
   "source": [
    "## Caso 1 — Capitales\n",
    "\n",
    "Construya un vector que represente la relación:  \n",
    "**paris + italy - france ≈ rome**\n",
    "\n",
    "1. Defina el vector de la expresión (`expr_vec`).  \n",
    "2. Defina el vector objetivo (`target_vec`).  \n",
    "3. Calcule `cos(expr, target)`, `||expr||` y `||target||`.  \n",
    "4. Escriba su conclusión.  "
   ]
  },
  {
   "cell_type": "code",
   "execution_count": 5,
   "metadata": {},
   "outputs": [
    {
     "name": "stdout",
     "output_type": "stream",
     "text": [
      "--- Chequeo Vocabulario Caso 1 ---\n",
      "En vocab: ['france', 'italy', 'paris', 'rome']\n",
      "No hay OOV\n",
      "\n",
      "==== Caso 1 — Capitales ====\n",
      "Expresión = paris + italy - france\n",
      "Target    = rome\n",
      "cos(expr, target) = 0.8084\n",
      "||expr||           = 6.227801\n",
      "||target||         = 5.523363\n",
      "\n"
     ]
    }
   ],
   "source": [
    "# Chequeo de vocabulario\n",
    "show_vocab_check(\"Caso 1\", [\"paris\", \"italy\", \"france\", \"rome\"])\n",
    "\n",
    "# Calculo de vectores y expresiones\n",
    "report_case(\n",
    "    label=\"Caso 1 — Capitales\",\n",
    "    plus=[\"paris\",\"italy\"],\n",
    "    minus=[\"france\"],\n",
    "    target_plus=[\"rome\"]\n",
    ")"
   ]
  },
  {
   "cell_type": "markdown",
   "metadata": {
    "id": "wDCO5IIDEjHR"
   },
   "source": [
    "## Caso 2 — Dictador/País\n",
    "\n",
    "Construya un vector que represente la relación:  \n",
    "**hitler + italy - germany**\n",
    "\n",
    "1. Construya el vector de la expresión.  \n",
    "2. Encuentre los **3 vecinos más cercanos** (`nearest_neighbors`).  \n",
    "3. Reporte la similitud coseno con cada vecino.  \n",
    "4. Escriba su interpretación de los resultados.  "
   ]
  },
  {
   "cell_type": "code",
   "execution_count": 6,
   "metadata": {},
   "outputs": [
    {
     "name": "stdout",
     "output_type": "stream",
     "text": [
      "--- Chequeo Vocabulario Caso 2 ---\n",
      "En vocab: ['germany', 'hitler', 'italy']\n",
      "No hay OOV\n",
      "\n",
      "==== Caso 2 — Dictador/País (hitler + italy - germany) ====\n",
      "Expresión = hitler + italy - germany\n",
      "1. mussolini        cos = 0.816139   ||w|| = 5.616946\n",
      "2. hitler           cos = 0.715457   ||w|| = 5.856016\n",
      "3. fascist          cos = 0.668780   ||w|| = 5.767242\n",
      "\n"
     ]
    }
   ],
   "source": [
    "# Chequeo de vocabulario\n",
    "show_vocab_check(\"Caso 2\", [\"hitler\",\"italy\",\"germany\"])\n",
    "\n",
    "# Calculo de vecinos más cercanos\n",
    "report_neighbors(\n",
    "    title=\"Caso 2 — Dictador/País (hitler + italy - germany)\",\n",
    "    plus=[\"hitler\",\"italy\"],\n",
    "    minus=[\"germany\"],\n",
    "    topn=3\n",
    ")"
   ]
  },
  {
   "cell_type": "markdown",
   "metadata": {
    "id": "IltzpJtcHmYf"
   },
   "source": [
    "## Caso 3 — Religión/Líder\n",
    "\n",
    "Construya un vector que represente la relación:  \n",
    "**christianity ≈ jesus**\n",
    "\n",
    "1. Construya el vector de la palabra `christianity`.  \n",
    "2. Encuentre los **3 vecinos más cercanos** (`nearest_neighbors`).  \n",
    "3. Reporte la similitud coseno con cada vecino.  \n",
    "4. Escriba su interpretación: ¿aparece `jesus` entre los vecinos?  "
   ]
  },
  {
   "cell_type": "code",
   "execution_count": 7,
   "metadata": {},
   "outputs": [
    {
     "name": "stdout",
     "output_type": "stream",
     "text": [
      "--- Chequeo Vocabulario Caso 3 ---\n",
      "En vocab: ['christianity', 'jesus']\n",
      "No hay OOV\n",
      "\n",
      "==== Caso 3 — Religión/Líder (vecinos de 'christianity') ====\n",
      "Expresión = christianity\n",
      "1. christianity     cos = 1.000000   ||w|| = 5.906148\n",
      "2. catholicism      cos = 0.875112   ||w|| = 5.338665\n",
      "3. protestantism    cos = 0.811677   ||w|| = 5.367615\n",
      "\n"
     ]
    }
   ],
   "source": [
    "show_vocab_check(\"Caso 3\", [\"christianity\",\"jesus\"])\n",
    "\n",
    "# Vecinos de la palabra cristianismo (no es una expresión, solo plus)\n",
    "report_neighbors(\n",
    "    title=\"Caso 3 — Religión/Líder (vecinos de 'christianity')\",\n",
    "    plus=[\"christianity\"],\n",
    "    minus=[],\n",
    "    topn=3\n",
    ")"
   ]
  },
  {
   "cell_type": "markdown",
   "metadata": {
    "id": "ylamHudTHtkF"
   },
   "source": [
    "## Caso 4 — Opuestos\n",
    "\n",
    "Analice la relación:  \n",
    "**good - bad**\n",
    "\n",
    "1. Construya el vector de la expresión `good - bad`.  \n",
    "2. Encuentre los **3 vecinos más cercanos** (`nearest_neighbors`).  \n",
    "3. Reporte la similitud coseno con cada vecino.  \n",
    "4. Escriba su conclusión sobre si los vecinos reflejan un contraste u oposición semántica."
   ]
  },
  {
   "cell_type": "code",
   "execution_count": null,
   "metadata": {},
   "outputs": [
    {
     "name": "stdout",
     "output_type": "stream",
     "text": [
      "--- Chequeo Vocabulario Caso 4 ---\n",
      "En vocab: ['bad', 'good']\n",
      "No hay OOV\n",
      "\n",
      "==== Caso 4 — Opuestos (good - bad) ====\n",
      "Expresión = good - bad\n",
      "1. excellent        cos = 0.522756   ||w|| = 4.920090\n",
      "2. versatile        cos = 0.459313   ||w|| = 4.832726\n",
      "3. ideal            cos = 0.457311   ||w|| = 4.697229\n",
      "\n"
     ]
    }
   ],
   "source": [
    "# Chequeo de vocabulario\n",
    "show_vocab_check(\"Caso 4\", [\"good\",\"bad\"])\n",
    "\n",
    "# Calculo de vecinos más cercanos\n",
    "report_neighbors(\n",
    "    title=\"Caso 4 — Opuestos (good - bad)\",\n",
    "    plus=[\"good\"],\n",
    "    minus=[\"bad\"],\n",
    "    topn=3\n",
    ")"
   ]
  },
  {
   "cell_type": "markdown",
   "metadata": {
    "id": "_RKNyXiMHySR"
   },
   "source": [
    "## Caso 5 — Propio\n",
    "\n",
    "Defina usted mismo un caso interesante. Ejemplos:  \n",
    "- `king - man + woman`  \n",
    "- `tokyo + france - japan`  \n",
    "- `apple - technology`  \n",
    "\n",
    "1. Construya la expresión vectorial que haya definido.  \n",
    "2. Encuentre los **3 vecinos más cercanos** (`nearest_neighbors`).  \n",
    "3. Reporte la similitud coseno con cada vecino.  \n",
    "4. Redacte una conclusión explicando si los resultados corresponden a su hipótesis inicial."
   ]
  },
  {
   "cell_type": "code",
   "execution_count": 9,
   "metadata": {},
   "outputs": [
    {
     "name": "stdout",
     "output_type": "stream",
     "text": [
      "--- Chequeo Vocabulario Caso 5 — Morfología ---\n",
      "En vocab: ['swim', 'swimming', 'walk', 'walking']\n",
      "No hay OOV\n",
      "\n",
      "==== Caso 5 — walking - walk + swim ≈ swimming ====\n",
      "Expresión = walking + swim - walk\n",
      "Target    = swimming\n",
      "cos(expr, target) = 0.806293\n",
      "||expr||           = 6.007751\n",
      "||target||         = 6.055724\n",
      "\n",
      "==== Vecinos de (walking + swim - walk) ====\n",
      "Expresión = walking + swim - walk\n",
      "1. swim             cos = 0.855026   ||w|| = 5.562894\n",
      "2. swimming         cos = 0.806293   ||w|| = 6.055724\n",
      "3. surfing          cos = 0.660029   ||w|| = 5.351810\n",
      "\n"
     ]
    }
   ],
   "source": [
    "# Caso 5 — Morfología verbal: walking - walk + swim ≈ swimming\n",
    "\n",
    "# 0) Verificar vocabulario\n",
    "show_vocab_check(\"Caso 5 — Morfología\", [\"walking\", \"walk\", \"swim\", \"swimming\"])\n",
    "\n",
    "# 1) Reporte con target explícito\n",
    "res_5 = report_case(\n",
    "    label=\"Caso 5 — walking - walk + swim ≈ swimming\",\n",
    "    plus=[\"walking\", \"swim\"],\n",
    "    minus=[\"walk\"],\n",
    "    target_plus=[\"swimming\"]\n",
    ")\n",
    "\n",
    "# 2)Vecinos de la expresión para inspección adicional\n",
    "report_neighbors(\n",
    "    title=\"Vecinos de (walking + swim - walk)\",\n",
    "    plus=[\"walking\", \"swim\"],\n",
    "    minus=[\"walk\"],\n",
    "    topn=3\n",
    ")"
   ]
  }
 ],
 "metadata": {
  "colab": {
   "provenance": []
  },
  "kernelspec": {
   "display_name": "respAI2",
   "language": "python",
   "name": "python3"
  },
  "language_info": {
   "codemirror_mode": {
    "name": "ipython",
    "version": 3
   },
   "file_extension": ".py",
   "mimetype": "text/x-python",
   "name": "python",
   "nbconvert_exporter": "python",
   "pygments_lexer": "ipython3",
   "version": "3.12.11"
  }
 },
 "nbformat": 4,
 "nbformat_minor": 0
}
